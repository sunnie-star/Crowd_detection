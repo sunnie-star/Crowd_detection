{
 "cells": [
  {
   "cell_type": "code",
   "execution_count": 2,
   "metadata": {},
   "outputs": [],
   "source": [
    "import prediect"
   ]
  },
  {
   "cell_type": "code",
   "execution_count": 4,
   "metadata": {},
   "outputs": [],
   "source": [
    "model = prediect.init_CSRNet()"
   ]
  },
  {
   "cell_type": "code",
   "execution_count": 5,
   "metadata": {},
   "outputs": [],
   "source": [
    "import cv2"
   ]
  },
  {
   "cell_type": "code",
   "execution_count": 13,
   "metadata": {},
   "outputs": [],
   "source": [
    "img = cv2.imread('2847.jpg')"
   ]
  },
  {
   "cell_type": "code",
   "execution_count": 14,
   "metadata": {},
   "outputs": [
    {
     "data": {
      "text/plain": [
       "(576, 704, 3)"
      ]
     },
     "execution_count": 14,
     "metadata": {},
     "output_type": "execute_result"
    }
   ],
   "source": [
    "img.shape"
   ]
  },
  {
   "cell_type": "code",
   "execution_count": 10,
   "metadata": {},
   "outputs": [],
   "source": [
    "import torch\n",
    "from torch.autograd import Variable\n",
    "from torchvision import datasets, transforms"
   ]
  },
  {
   "cell_type": "code",
   "execution_count": 15,
   "metadata": {},
   "outputs": [
    {
     "name": "stderr",
     "output_type": "stream",
     "text": [
      "Exception ignored in: <function tqdm.__del__ at 0x7fc3ff9a84c0>\n",
      "Traceback (most recent call last):\n",
      "  File \"/home/yeshang/.virtualenvs/yolov5/lib/python3.8/site-packages/tqdm/std.py\", line 1087, in __del__\n",
      "    self.close()\n",
      "  File \"/home/yeshang/.virtualenvs/yolov5/lib/python3.8/site-packages/tqdm/notebook.py\", line 255, in close\n",
      "    self.sp(bar_style='danger')\n",
      "AttributeError: 'tqdm_notebook' object has no attribute 'sp'\n"
     ]
    }
   ],
   "source": [
    "model.eval()\n",
    "    \n",
    "transform=transforms.Compose([\n",
    "    transforms.ToTensor(),\n",
    "    transforms.Normalize(mean=[0.485, 0.456, 0.406],\n",
    "    std=[0.229, 0.224, 0.225]),\n",
    "    ])\n",
    "\n",
    "img = transform(img)\n",
    "img = img.cuda()\n",
    "img = Variable(torch.unsqueeze(img,dim=0).float())\n",
    "output = model(img)"
   ]
  },
  {
   "cell_type": "code",
   "execution_count": 20,
   "metadata": {},
   "outputs": [
    {
     "data": {
      "text/plain": [
       "torch.Size([72, 88])"
      ]
     },
     "execution_count": 20,
     "metadata": {},
     "output_type": "execute_result"
    }
   ],
   "source": [
    "output[0][0].data.shape"
   ]
  },
  {
   "cell_type": "code",
   "execution_count": 23,
   "metadata": {},
   "outputs": [],
   "source": [
    "import matplotlib as mpl\n",
    "from matplotlib import pyplot as plt"
   ]
  },
  {
   "cell_type": "code",
   "execution_count": 70,
   "metadata": {},
   "outputs": [
    {
     "data": {
      "image/png": "[encoded data removed]",
      "text/plain": [
       "<Figure size 432x288 with 1 Axes>"
      ]
     },
     "metadata": {
      "needs_background": "light"
     },
     "output_type": "display_data"
    }
   ],
   "source": [
    "plt.imshow(np.abs(output[0][0].cpu().detach().numpy()), cmap=mpl.cm.hot)\n",
    "plt.show()"
   ]
  },
  {
   "cell_type": "code",
   "execution_count": 30,
   "metadata": {},
   "outputs": [],
   "source": [
    "import numpy as np"
   ]
  },
  {
   "cell_type": "code",
   "execution_count": 65,
   "metadata": {},
   "outputs": [
    {
     "data": {
      "text/plain": [
       "-0.0034531825"
      ]
     },
     "execution_count": 65,
     "metadata": {},
     "output_type": "execute_result"
    }
   ],
   "source": [
    "output[0][0].cpu().detach().numpy().min()"
   ]
  },
  {
   "cell_type": "code",
   "execution_count": 91,
   "metadata": {},
   "outputs": [
    {
     "data": {
      "text/plain": [
       "array([21.12, 21.2 , 20.88, 21.16])"
      ]
     },
     "execution_count": 91,
     "metadata": {},
     "output_type": "execute_result"
    }
   ],
   "source": [
    "nums[:100].reshape(25, 4).mean(axis=0)"
   ]
  },
  {
   "cell_type": "code",
   "execution_count": 75,
   "metadata": {},
   "outputs": [],
   "source": [
    "import json"
   ]
  },
  {
   "cell_type": "code",
   "execution_count": 81,
   "metadata": {},
   "outputs": [],
   "source": [
    "with open('result.json', 'w') as f:\n",
    "    json.dump(np.zeros(10, dtype=np.int).tolist(), f)"
   ]
  },
  {
   "cell_type": "code",
   "execution_count": 92,
   "metadata": {},
   "outputs": [],
   "source": [
    "video = cv2.VideoCapture('../../dataset/Subway/06.mp4')\n",
    "size = video.get(cv2.CAP_PROP_FRAME_COUNT)\n",
    "nums = np.zeros(int(size))\n",
    "ret, frame = video.read()\n",
    "i = 0\n",
    "while ret:\n",
    "    img = frame\n",
    "    img = transform(img)\n",
    "    img = img.cuda()\n",
    "    img = Variable(torch.unsqueeze(img,dim=0).float())\n",
    "    output = model(img)\n",
    "    num = int(abs(output.data.sum()).item())\n",
    "    nums[i] = num\n",
    "#     fig = plt.gcf()\n",
    "#     fig.clf()\n",
    "#     plt.imshow(np.abs(output[0][0].cpu().detach().numpy()), cmap=mpl.cm.hot)\n",
    "#     fig.set_size_inches(8.8/3, 7.2/3) #dpi = 300, output = 700*700 pixels\n",
    "#     plt.gca().xaxis.set_major_locator(plt.NullLocator())\n",
    "#     plt.gca().yaxis.set_major_locator(plt.NullLocator())\n",
    "#     plt.subplots_adjust(top = 1, bottom = 0, right = 1, left = 0, hspace = 0, wspace = 0)\n",
    "#     plt.margins(0,0)\n",
    "#     plt.savefig('result/{}.jpg'.format(i), pad_inches=0)\n",
    "    i += 1\n",
    "    ret, frame = video.read()\n",
    "with open('result.json', 'w') as f:\n",
    "    json.dump(nums.tolist(), f)"
   ]
  }
 ],
 "metadata": {
  "kernelspec": {
   "display_name": "yolov5",
   "language": "python",
   "name": "yolov5"
  },
  "language_info": {
   "codemirror_mode": {
    "name": "ipython",
    "version": 3
   },
   "file_extension": ".py",
   "mimetype": "text/x-python",
   "name": "python",
   "nbconvert_exporter": "python",
   "pygments_lexer": "ipython3",
   "version": "3.8.0"
  }
 },
 "nbformat": 4,
 "nbformat_minor": 4
}
